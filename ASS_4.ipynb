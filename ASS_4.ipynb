{
  "nbformat": 4,
  "nbformat_minor": 0,
  "metadata": {
    "colab": {
      "provenance": [],
      "authorship_tag": "ABX9TyMDgm5Yn5bNY4Rpy5pulMqX",
      "include_colab_link": true
    },
    "kernelspec": {
      "name": "python3",
      "display_name": "Python 3"
    },
    "language_info": {
      "name": "python"
    }
  },
  "cells": [
    {
      "cell_type": "markdown",
      "metadata": {
        "id": "view-in-github",
        "colab_type": "text"
      },
      "source": [
        "<a href=\"https://colab.research.google.com/github/challatharuni/ASS-4/blob/main/ASS_4.ipynb\" target=\"_parent\"><img src=\"https://colab.research.google.com/assets/colab-badge.svg\" alt=\"Open In Colab\"/></a>"
      ]
    },
    {
      "cell_type": "code",
      "execution_count": 1,
      "metadata": {
        "colab": {
          "base_uri": "https://localhost:8080/"
        },
        "id": "HGl6P_cI0T-J",
        "outputId": "71dbfcc3-bbd4-42d5-b4bc-3b4a94ad5f86"
      },
      "outputs": [
        {
          "output_type": "stream",
          "name": "stdout",
          "text": [
            "Enter a positive integer: 10\n",
            "The sum of all even numbers between 1 and 10 is: 30\n"
          ]
        }
      ],
      "source": [
        "# Function to calculate the sum of even numbers\n",
        "def sum_of_even_numbers(n):\n",
        "    # Initialize the sum\n",
        "    total = 0\n",
        "    for i in range(2, n + 1, 2):\n",
        "        total += i\n",
        "    return total\n",
        "n = int(input(\"Enter a positive integer: \"))\n",
        "\n",
        "if n > 0:\n",
        "    result = sum_of_even_numbers(n)\n",
        "    print(f\"The sum of all even numbers between 1 and {n} is: {result}\")\n",
        "else:\n",
        "    print(\"Please enter a positive integer.\")\n"
      ]
    },
    {
      "cell_type": "code",
      "source": [],
      "metadata": {
        "id": "Tk8lTrUh1c5c"
      },
      "execution_count": null,
      "outputs": []
    }
  ]
}